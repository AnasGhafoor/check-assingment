{
 "cells": [
  {
   "cell_type": "markdown",
   "id": "35b5ba6c-d9f5-4cfd-a002-6108a3ef39d6",
   "metadata": {},
   "source": [
    "Task no 1"
   ]
  },
  {
   "cell_type": "code",
   "execution_count": 37,
   "id": "a6f5428d-5380-4e0f-a233-b2162972c1c6",
   "metadata": {},
   "outputs": [
    {
     "name": "stdin",
     "output_type": "stream",
     "text": [
      "enter your name ali\n",
      "enter your age 556\n"
     ]
    },
    {
     "name": "stdout",
     "output_type": "stream",
     "text": [
      "Hello ali !  !you are 556 year old\n"
     ]
    }
   ],
   "source": [
    "a=input(\"enter your name\")\n",
    "b=input(\"enter your age\")\n",
    "print (\"Hello\",a,\"!\",\" you are\",b,\"year old\")"
   ]
  },
  {
   "cell_type": "markdown",
   "id": "1f313207-4c30-475d-b9bf-987eb773f912",
   "metadata": {},
   "source": [
    "Task no 2"
   ]
  },
  {
   "cell_type": "code",
   "execution_count": 25,
   "id": "47000c68-667e-4c43-a69e-72dd490ffbfe",
   "metadata": {},
   "outputs": [
    {
     "name": "stdin",
     "output_type": "stream",
     "text": [
      "length of rectangle 4.4\n",
      "width of rectangle 2.3\n"
     ]
    },
    {
     "name": "stdout",
     "output_type": "stream",
     "text": [
      "Area of rectangle is 10.12\n"
     ]
    }
   ],
   "source": [
    "length=float(input(\"length of rectangle\"))\n",
    "width=float(input(\"width of rectangle\")) \n",
    "Area= length*width\n",
    "print(\"Area of rectangle is\",Area)"
   ]
  },
  {
   "cell_type": "markdown",
   "id": "3ae3b2e0-0a66-44e7-b808-ed8e038d1473",
   "metadata": {},
   "source": [
    "Task no 3:"
   ]
  },
  {
   "cell_type": "code",
   "execution_count": 38,
   "id": "627b5918-19ed-45dd-9ea3-2b793ebf7262",
   "metadata": {},
   "outputs": [
    {
     "name": "stdin",
     "output_type": "stream",
     "text": [
      "Tem in cel 22.7\n"
     ]
    },
    {
     "name": "stdout",
     "output_type": "stream",
     "text": [
      "temp in fahrenheit 72.86\n"
     ]
    }
   ],
   "source": [
    "temp=float(input(\"Tem in cel\"))\n",
    "F=(temp*(9/5))+32\n",
    "print(\"temp in fahrenheit\",F)"
   ]
  },
  {
   "cell_type": "code",
   "execution_count": 41,
   "id": "4ecb3864-8c9a-4e18-a798-955f199d88bd",
   "metadata": {},
   "outputs": [
    {
     "ename": "SyntaxError",
     "evalue": "cannot assign to expression here. Maybe you meant '==' instead of '='? (2009776322.py, line 3)",
     "output_type": "error",
     "traceback": [
      "\u001b[1;36m  Cell \u001b[1;32mIn[41], line 3\u001b[1;36m\u001b[0m\n\u001b[1;33m    total-sale-amount = p+s\u001b[0m\n\u001b[1;37m    ^\u001b[0m\n\u001b[1;31mSyntaxError\u001b[0m\u001b[1;31m:\u001b[0m cannot assign to expression here. Maybe you meant '==' instead of '='?\n"
     ]
    }
   ],
   "source": [
    "p=int(input(\"price of an item\"))\n",
    "s=float(input(\"sales tex rate\"))\n",
    "total-sale-amount = "
   ]
  },
  {
   "cell_type": "code",
   "execution_count": null,
   "id": "b72420e7-1c45-4235-a1b5-6b59458cb7ee",
   "metadata": {},
   "outputs": [],
   "source": []
  }
 ],
 "metadata": {
  "kernelspec": {
   "display_name": "Python 3 (ipykernel)",
   "language": "python",
   "name": "python3"
  },
  "language_info": {
   "codemirror_mode": {
    "name": "ipython",
    "version": 3
   },
   "file_extension": ".py",
   "mimetype": "text/x-python",
   "name": "python",
   "nbconvert_exporter": "python",
   "pygments_lexer": "ipython3",
   "version": "3.12.4"
  }
 },
 "nbformat": 4,
 "nbformat_minor": 5
}
